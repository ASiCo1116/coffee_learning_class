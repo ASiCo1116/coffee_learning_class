{
 "cells": [
  {
   "cell_type": "markdown",
   "metadata": {},
   "source": [
    "# Demo for coffee learning 0908"
   ]
  },
  {
   "cell_type": "markdown",
   "metadata": {},
   "source": [
    "### 1. 引入相關套件"
   ]
  },
  {
   "cell_type": "code",
   "execution_count": 1,
   "metadata": {},
   "outputs": [],
   "source": [
    "%matplotlib inline\n",
    "import numpy as np\n",
    "import pandas as pd\n",
    "import matplotlib.pyplot as plt\n",
    "\n",
    "from sklearn.metrics import r2_score\n",
    "from sklearn.cross_decomposition import PLSRegression"
   ]
  },
  {
   "cell_type": "markdown",
   "metadata": {},
   "source": [
    "### 2. 讀取檔案"
   ]
  },
  {
   "cell_type": "code",
   "execution_count": 2,
   "metadata": {},
   "outputs": [],
   "source": [
    "data_dir = \"./coffee_data.xlsx\"\n",
    "df = pd.read_excel(data_dir)"
   ]
  },
  {
   "cell_type": "markdown",
   "metadata": {},
   "source": [
    "### 3. 稍微確認一下資料的形式"
   ]
  },
  {
   "cell_type": "code",
   "execution_count": 3,
   "metadata": {},
   "outputs": [
    {
     "data": {
      "text/plain": [
       "(300, 904)"
      ]
     },
     "execution_count": 3,
     "metadata": {},
     "output_type": "execute_result"
    }
   ],
   "source": [
    "df.shape"
   ]
  },
  {
   "cell_type": "code",
   "execution_count": 4,
   "metadata": {
    "scrolled": true
   },
   "outputs": [
    {
     "data": {
      "text/html": [
       "<div>\n",
       "<style scoped>\n",
       "    .dataframe tbody tr th:only-of-type {\n",
       "        vertical-align: middle;\n",
       "    }\n",
       "\n",
       "    .dataframe tbody tr th {\n",
       "        vertical-align: top;\n",
       "    }\n",
       "\n",
       "    .dataframe thead th {\n",
       "        text-align: right;\n",
       "    }\n",
       "</style>\n",
       "<table border=\"1\" class=\"dataframe\">\n",
       "  <thead>\n",
       "    <tr style=\"text-align: right;\">\n",
       "      <th></th>\n",
       "      <th>豆子種類</th>\n",
       "      <th>Scan file</th>\n",
       "      <th>Agtron III_G</th>\n",
       "      <th>Sample Number</th>\n",
       "      <th>700</th>\n",
       "      <th>702</th>\n",
       "      <th>704</th>\n",
       "      <th>706</th>\n",
       "      <th>708</th>\n",
       "      <th>710</th>\n",
       "      <th>...</th>\n",
       "      <th>2480</th>\n",
       "      <th>2482</th>\n",
       "      <th>2484</th>\n",
       "      <th>2486</th>\n",
       "      <th>2488</th>\n",
       "      <th>2490</th>\n",
       "      <th>2492</th>\n",
       "      <th>2494</th>\n",
       "      <th>2496</th>\n",
       "      <th>2498</th>\n",
       "    </tr>\n",
       "  </thead>\n",
       "  <tbody>\n",
       "    <tr>\n",
       "      <td>0</td>\n",
       "      <td>Arabica</td>\n",
       "      <td>A25G_w1</td>\n",
       "      <td>24.3</td>\n",
       "      <td>A25G_w1</td>\n",
       "      <td>1.009872</td>\n",
       "      <td>1.005166</td>\n",
       "      <td>1.000456</td>\n",
       "      <td>0.995730</td>\n",
       "      <td>0.990981</td>\n",
       "      <td>0.986239</td>\n",
       "      <td>...</td>\n",
       "      <td>0.998750</td>\n",
       "      <td>1.004919</td>\n",
       "      <td>1.010784</td>\n",
       "      <td>1.016384</td>\n",
       "      <td>1.021699</td>\n",
       "      <td>1.026701</td>\n",
       "      <td>1.031699</td>\n",
       "      <td>1.036464</td>\n",
       "      <td>1.040877</td>\n",
       "      <td>1.045308</td>\n",
       "    </tr>\n",
       "    <tr>\n",
       "      <td>1</td>\n",
       "      <td>Arabica</td>\n",
       "      <td>A30G_w1</td>\n",
       "      <td>30.1</td>\n",
       "      <td>A30G_w1</td>\n",
       "      <td>0.841986</td>\n",
       "      <td>0.837227</td>\n",
       "      <td>0.832504</td>\n",
       "      <td>0.827815</td>\n",
       "      <td>0.823142</td>\n",
       "      <td>0.818491</td>\n",
       "      <td>...</td>\n",
       "      <td>0.797958</td>\n",
       "      <td>0.802303</td>\n",
       "      <td>0.806244</td>\n",
       "      <td>0.810356</td>\n",
       "      <td>0.814289</td>\n",
       "      <td>0.818135</td>\n",
       "      <td>0.821907</td>\n",
       "      <td>0.825504</td>\n",
       "      <td>0.828727</td>\n",
       "      <td>0.831796</td>\n",
       "    </tr>\n",
       "    <tr>\n",
       "      <td>2</td>\n",
       "      <td>Arabica</td>\n",
       "      <td>A35G_w1</td>\n",
       "      <td>34.8</td>\n",
       "      <td>A35G_w1</td>\n",
       "      <td>0.772427</td>\n",
       "      <td>0.767935</td>\n",
       "      <td>0.763465</td>\n",
       "      <td>0.759012</td>\n",
       "      <td>0.754586</td>\n",
       "      <td>0.750181</td>\n",
       "      <td>...</td>\n",
       "      <td>0.798422</td>\n",
       "      <td>0.802911</td>\n",
       "      <td>0.806890</td>\n",
       "      <td>0.811073</td>\n",
       "      <td>0.815109</td>\n",
       "      <td>0.819081</td>\n",
       "      <td>0.822929</td>\n",
       "      <td>0.826484</td>\n",
       "      <td>0.829827</td>\n",
       "      <td>0.833088</td>\n",
       "    </tr>\n",
       "    <tr>\n",
       "      <td>3</td>\n",
       "      <td>Arabica</td>\n",
       "      <td>A40G_w1</td>\n",
       "      <td>40.8</td>\n",
       "      <td>A40G_w1</td>\n",
       "      <td>0.738502</td>\n",
       "      <td>0.734085</td>\n",
       "      <td>0.729687</td>\n",
       "      <td>0.725311</td>\n",
       "      <td>0.720965</td>\n",
       "      <td>0.716644</td>\n",
       "      <td>...</td>\n",
       "      <td>0.784862</td>\n",
       "      <td>0.789221</td>\n",
       "      <td>0.793779</td>\n",
       "      <td>0.797882</td>\n",
       "      <td>0.801580</td>\n",
       "      <td>0.805487</td>\n",
       "      <td>0.809205</td>\n",
       "      <td>0.812715</td>\n",
       "      <td>0.816128</td>\n",
       "      <td>0.819209</td>\n",
       "    </tr>\n",
       "    <tr>\n",
       "      <td>4</td>\n",
       "      <td>Arabica</td>\n",
       "      <td>A45G_w1</td>\n",
       "      <td>44.6</td>\n",
       "      <td>A45G_w1</td>\n",
       "      <td>0.689163</td>\n",
       "      <td>0.684965</td>\n",
       "      <td>0.680791</td>\n",
       "      <td>0.676638</td>\n",
       "      <td>0.672506</td>\n",
       "      <td>0.668398</td>\n",
       "      <td>...</td>\n",
       "      <td>0.804665</td>\n",
       "      <td>0.808950</td>\n",
       "      <td>0.813117</td>\n",
       "      <td>0.817304</td>\n",
       "      <td>0.821281</td>\n",
       "      <td>0.825327</td>\n",
       "      <td>0.829113</td>\n",
       "      <td>0.832572</td>\n",
       "      <td>0.835892</td>\n",
       "      <td>0.839078</td>\n",
       "    </tr>\n",
       "  </tbody>\n",
       "</table>\n",
       "<p>5 rows × 904 columns</p>\n",
       "</div>"
      ],
      "text/plain": [
       "      豆子種類 Scan file  Agtron III_G Sample Number       700       702  \\\n",
       "0  Arabica   A25G_w1          24.3       A25G_w1  1.009872  1.005166   \n",
       "1  Arabica   A30G_w1          30.1       A30G_w1  0.841986  0.837227   \n",
       "2  Arabica   A35G_w1          34.8       A35G_w1  0.772427  0.767935   \n",
       "3  Arabica   A40G_w1          40.8       A40G_w1  0.738502  0.734085   \n",
       "4  Arabica   A45G_w1          44.6       A45G_w1  0.689163  0.684965   \n",
       "\n",
       "        704       706       708       710  ...      2480      2482      2484  \\\n",
       "0  1.000456  0.995730  0.990981  0.986239  ...  0.998750  1.004919  1.010784   \n",
       "1  0.832504  0.827815  0.823142  0.818491  ...  0.797958  0.802303  0.806244   \n",
       "2  0.763465  0.759012  0.754586  0.750181  ...  0.798422  0.802911  0.806890   \n",
       "3  0.729687  0.725311  0.720965  0.716644  ...  0.784862  0.789221  0.793779   \n",
       "4  0.680791  0.676638  0.672506  0.668398  ...  0.804665  0.808950  0.813117   \n",
       "\n",
       "       2486      2488      2490      2492      2494      2496      2498  \n",
       "0  1.016384  1.021699  1.026701  1.031699  1.036464  1.040877  1.045308  \n",
       "1  0.810356  0.814289  0.818135  0.821907  0.825504  0.828727  0.831796  \n",
       "2  0.811073  0.815109  0.819081  0.822929  0.826484  0.829827  0.833088  \n",
       "3  0.797882  0.801580  0.805487  0.809205  0.812715  0.816128  0.819209  \n",
       "4  0.817304  0.821281  0.825327  0.829113  0.832572  0.835892  0.839078  \n",
       "\n",
       "[5 rows x 904 columns]"
      ]
     },
     "execution_count": 4,
     "metadata": {},
     "output_type": "execute_result"
    }
   ],
   "source": [
    "df.head()"
   ]
  },
  {
   "cell_type": "code",
   "execution_count": 5,
   "metadata": {},
   "outputs": [
    {
     "data": {
      "text/plain": [
       "Text(0.5, 1.0, 'sample name: R70G_w2')"
      ]
     },
     "execution_count": 5,
     "metadata": {},
     "output_type": "execute_result"
    },
    {
     "data": {
      "image/png": "[encoded data removed]",
      "text/plain": [
       "<Figure size 432x288 with 1 Axes>"
      ]
     },
     "metadata": {
      "needs_background": "light"
     },
     "output_type": "display_data"
    }
   ],
   "source": [
    "wave = list(range(700, 2500, 2))\n",
    "random_spectrum = df.iloc[87, -900:]\n",
    "plt.plot(wave, random_spectrum)\n",
    "plt.xlabel('wavelength')\n",
    "plt.ylabel('absorbance')\n",
    "plt.title(f'sample name: {df.iloc[87, 3]}')"
   ]
  },
  {
   "cell_type": "markdown",
   "metadata": {},
   "source": [
    "### 3. 資料集的準備\n",
    "#### - 一般訓練模型時，為了避免過擬和(overfitting)的狀況、增強模型的穩健性...等等考量\n",
    "#### - 資料會切成訓練集(training set)、驗證集(validation set)及測試集(testing set)\n",
    "#### - 驗證集的角色類似於測試集，只是它不會影響模型的訓練過程，它只是作為測試模型效能之用途\n",
    "#### - 驗證集的切分方法很多，有 n-folder spliting、leave-one-out..."
   ]
  },
  {
   "cell_type": "code",
   "execution_count": 6,
   "metadata": {},
   "outputs": [],
   "source": [
    "train_spectra, test_spectra = df.iloc[:150, -900:], df.iloc[250:, -900:]\n",
    "train_agtron, test_agtron = df.iloc[:150, 2], df.iloc[250:, 2]"
   ]
  },
  {
   "cell_type": "markdown",
   "metadata": {},
   "source": [
    "### 4. 光譜前處理的準備"
   ]
  },
  {
   "cell_type": "code",
   "execution_count": 7,
   "metadata": {},
   "outputs": [],
   "source": [
    "def MSC(input_spectrum, reference = None):\n",
    "    for i in range(input_spectrum.shape[0]):\n",
    "        input_spectrum[i, :] -= input_spectrum[i, :].mean()\n",
    "    if reference is None:\n",
    "        ref = np.mean(input_spectrum, axis = 0)\n",
    "    else:\n",
    "        ref = reference\n",
    "    msc_spectrum = np.zeros_like(input_spectrum)\n",
    "    for i in range(input_spectrum.shape[0]):\n",
    "        fit = np.polyfit(ref, input_spectrum[i, :], 1, full = True)\n",
    "        msc_spectrum[i, :] = (input_spectrum[i, :] - fit[0][1]) / fit[0][0]\n",
    "\n",
    "    return (msc_spectrum, ref)"
   ]
  },
  {
   "cell_type": "code",
   "execution_count": 8,
   "metadata": {},
   "outputs": [],
   "source": [
    "from scipy.signal import savgol_filter\n",
    "\n",
    "def SG(input_spectrum, arguments):\n",
    "    #the function is the correction of the NIR data\n",
    "    #input data is a samples * one dimension  feature data\n",
    "    #savitzky golay filter\n",
    "    def _decode_argument(arguments):\n",
    "        arguments = arguments.split('_')\n",
    "        poly, der, win = 0, 0, 1\n",
    "        for obj in arguments:\n",
    "            if 'help' in obj:\n",
    "                print('There were three arguments can be set in SG filter, [poly_order, derivative order, window length].')\n",
    "                print('All of the arguments must be a int. Here is example: SG_w5_p2_d2')\n",
    "                exit(0)\n",
    "            else:\n",
    "                if 'p' in obj:\n",
    "                    poly = int(obj.replace('p', ''))\n",
    "                elif 'd' in obj:\n",
    "                    der = int(obj.replace('d', ''))\n",
    "                elif 'w' in obj:\n",
    "                    temp = int(obj.replace('w', ''))\n",
    "                    if temp % 2 == 0 or temp < 0:\n",
    "                        raise ValueError('window length of SG filter must be a positive and odd number.')\n",
    "                    else:\n",
    "                        win = temp\n",
    "        if poly >= win:\n",
    "            raise ValueError('polyorder must be less than window_length.')\n",
    "\n",
    "        if der < 0:\n",
    "            raise ValueError('This must be a nonnegative integer.')\n",
    "\n",
    "        return poly, der, win\n",
    "\n",
    "    poly, der, win = _decode_argument(arguments)\n",
    "\n",
    "    for i in range(input_spectrum.shape[0]):\n",
    "        input_spectrum[i] = savgol_filter(input_spectrum[i], window_length = win, polyorder = poly, deriv = der)\n",
    "\n",
    "    if win == 1:\n",
    "        adjust_length = 0\n",
    "    else:\n",
    "        adjust_length = win // 2\n",
    "\n",
    "    if adjust_length > 0:\n",
    "        input_spectrum[:, -adjust_length:] = 0.0\n",
    "        input_spectrum[:, 0: adjust_length] = 0.0\n",
    "\n",
    "    return input_spectrum"
   ]
  },
  {
   "cell_type": "code",
   "execution_count": 9,
   "metadata": {},
   "outputs": [],
   "source": [
    "(train_spectra_msc, _), (test_spectra_msc, _) = MSC(train_spectra.values), MSC(test_spectra.values)"
   ]
  },
  {
   "cell_type": "code",
   "execution_count": 10,
   "metadata": {},
   "outputs": [],
   "source": [
    "train_spectra_msc_sg, test_spectra_msc_sg = SG(train_spectra_msc, 'SG_w5_p2_d1'), SG(test_spectra_msc, 'SG_w5_p2_d1')"
   ]
  },
  {
   "cell_type": "markdown",
   "metadata": {},
   "source": [
    "### 5. 模型建立、參數選定、訓練 GO"
   ]
  },
  {
   "cell_type": "code",
   "execution_count": 11,
   "metadata": {},
   "outputs": [],
   "source": [
    "num_components = 5\n",
    "plsr = PLSRegression(n_components = num_components)\n",
    "plsr.fit(train_spectra, train_agtron)\n",
    "output = plsr.predict(test_spectra)"
   ]
  },
  {
   "cell_type": "code",
   "execution_count": 12,
   "metadata": {},
   "outputs": [],
   "source": [
    "plsr_msc_sg = PLSRegression(n_components = num_components)\n",
    "plsr_msc_sg.fit(train_spectra_msc_sg, train_agtron)\n",
    "output_msc_sg = plsr_msc_sg.predict(test_spectra_msc_sg)"
   ]
  },
  {
   "cell_type": "markdown",
   "metadata": {},
   "source": [
    "### 6. 衡量指標"
   ]
  },
  {
   "cell_type": "code",
   "execution_count": 13,
   "metadata": {},
   "outputs": [],
   "source": [
    "def rmse(output, target):\n",
    "    return np.around(np.sum((output - target) ** 2) / output.shape[0], 3)\n",
    "\n",
    "def r2(output, target):\n",
    "    return round(r2_score(output, target), 3)\n",
    "\n",
    "def rpd(output, target):\n",
    "    bias = np.sum(np.subtract(output, target), axis = 0) / output.shape[0]\n",
    "    sep = ((np.sum(np.subtract(np.subtract(output, target), bias) ** 2, axis = 0)) / (output.shape[0] - 1)) ** 0.5\n",
    "    return np.around(np.std(target, axis = 0) / sep, 3)"
   ]
  },
  {
   "cell_type": "code",
   "execution_count": 14,
   "metadata": {},
   "outputs": [
    {
     "name": "stdout",
     "output_type": "stream",
     "text": [
      "RMSE: w/o pretreatment: 5.105,    w/ pretreatment:34.64\n",
      "R-square: w/o pretreatment: 0.967,    w/ pretreatment:0.745\n",
      "RPD: w/o pretreatment: 5.743,    w/ pretreatment:2.586\n"
     ]
    }
   ],
   "source": [
    "print(f'RMSE: w/o pretreatment: {rmse(output.flatten(), test_agtron)},\\\n",
    "    w/ pretreatment:{rmse(output_msc_sg.flatten(), test_agtron)}')\n",
    "\n",
    "print(f'R-square: w/o pretreatment: {r2(output.flatten(), test_agtron)},\\\n",
    "    w/ pretreatment:{r2(output_msc_sg.flatten(), test_agtron)}')\n",
    "\n",
    "print(f'RPD: w/o pretreatment: {rpd(output.flatten(), test_agtron)},\\\n",
    "    w/ pretreatment:{rpd(output_msc_sg.flatten(), test_agtron)}')"
   ]
  },
  {
   "cell_type": "markdown",
   "metadata": {},
   "source": [
    "### 7. 實戰演練~"
   ]
  },
  {
   "cell_type": "code",
   "execution_count": null,
   "metadata": {},
   "outputs": [],
   "source": []
  }
 ],
 "metadata": {
  "kernelspec": {
   "display_name": "Python 3",
   "language": "python",
   "name": "python3"
  },
  "language_info": {
   "codemirror_mode": {
    "name": "ipython",
    "version": 3
   },
   "file_extension": ".py",
   "mimetype": "text/x-python",
   "name": "python",
   "nbconvert_exporter": "python",
   "pygments_lexer": "ipython3",
   "version": "3.7.4"
  }
 },
 "nbformat": 4,
 "nbformat_minor": 2
}
